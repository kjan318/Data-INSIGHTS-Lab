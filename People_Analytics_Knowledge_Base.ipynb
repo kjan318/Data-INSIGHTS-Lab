{
  "nbformat": 4,
  "nbformat_minor": 0,
  "metadata": {
    "colab": {
      "provenance": [],
      "authorship_tag": "ABX9TyPHphMPu6qFA/+vn7o+bLJX",
      "include_colab_link": true
    },
    "kernelspec": {
      "name": "python3",
      "display_name": "Python 3"
    },
    "language_info": {
      "name": "python"
    }
  },
  "cells": [
    {
      "cell_type": "markdown",
      "metadata": {
        "id": "view-in-github",
        "colab_type": "text"
      },
      "source": [
        "<a href=\"https://colab.research.google.com/github/kjan318/Data-INSIGHTS-Lab/blob/main/People_Analytics_Knowledge_Base.ipynb\" target=\"_parent\"><img src=\"https://colab.research.google.com/assets/colab-badge.svg\" alt=\"Open In Colab\"/></a>"
      ]
    },
    {
      "cell_type": "markdown",
      "source": [
        "# Cell 1: Installation and Authentication"
      ],
      "metadata": {
        "id": "ckPHSpUzqvvQ"
      }
    },
    {
      "cell_type": "code",
      "execution_count": 3,
      "metadata": {
        "colab": {
          "base_uri": "https://localhost:8080/",
          "height": 367
        },
        "id": "-fTz-qEfqLlp",
        "outputId": "d446e157-aa87-4ff2-d09b-e58fc281ebaa"
      },
      "outputs": [
        {
          "output_type": "error",
          "ename": "ValueError",
          "evalue": "The default Firebase app already exists. This means you called initialize_app() more than once without providing an app name as the second argument. In most cases you only need to call initialize_app() once. But if you do want to initialize multiple apps, pass a second argument to initialize_app() to give each app a unique name.",
          "traceback": [
            "\u001b[0;31m---------------------------------------------------------------------------\u001b[0m",
            "\u001b[0;31mValueError\u001b[0m                                Traceback (most recent call last)",
            "\u001b[0;32m/tmp/ipython-input-3171167605.py\u001b[0m in \u001b[0;36m<cell line: 0>\u001b[0;34m()\u001b[0m\n\u001b[1;32m     13\u001b[0m \u001b[0;31m# to your Colab session files before running this.\u001b[0m\u001b[0;34m\u001b[0m\u001b[0;34m\u001b[0m\u001b[0m\n\u001b[1;32m     14\u001b[0m \u001b[0mcred\u001b[0m \u001b[0;34m=\u001b[0m \u001b[0mcredentials\u001b[0m\u001b[0;34m.\u001b[0m\u001b[0mCertificate\u001b[0m\u001b[0;34m(\u001b[0m\u001b[0;34m\"gen-lang-client-0582050962-firebase-adminsdk-fbsvc-4c199b0c7b.json\"\u001b[0m\u001b[0;34m)\u001b[0m\u001b[0;34m\u001b[0m\u001b[0;34m\u001b[0m\u001b[0m\n\u001b[0;32m---> 15\u001b[0;31m \u001b[0mfirebase_admin\u001b[0m\u001b[0;34m.\u001b[0m\u001b[0minitialize_app\u001b[0m\u001b[0;34m(\u001b[0m\u001b[0mcred\u001b[0m\u001b[0;34m)\u001b[0m\u001b[0;34m\u001b[0m\u001b[0;34m\u001b[0m\u001b[0m\n\u001b[0m\u001b[1;32m     16\u001b[0m \u001b[0mdb\u001b[0m \u001b[0;34m=\u001b[0m \u001b[0mfirestore\u001b[0m\u001b[0;34m.\u001b[0m\u001b[0mclient\u001b[0m\u001b[0;34m(\u001b[0m\u001b[0;34m)\u001b[0m\u001b[0;34m\u001b[0m\u001b[0;34m\u001b[0m\u001b[0m\n\u001b[1;32m     17\u001b[0m \u001b[0;34m\u001b[0m\u001b[0m\n",
            "\u001b[0;32m/usr/local/lib/python3.12/dist-packages/firebase_admin/__init__.py\u001b[0m in \u001b[0;36minitialize_app\u001b[0;34m(credential, options, name)\u001b[0m\n\u001b[1;32m     72\u001b[0m \u001b[0;34m\u001b[0m\u001b[0m\n\u001b[1;32m     73\u001b[0m     \u001b[0;32mif\u001b[0m \u001b[0mname\u001b[0m \u001b[0;34m==\u001b[0m \u001b[0m_DEFAULT_APP_NAME\u001b[0m\u001b[0;34m:\u001b[0m\u001b[0;34m\u001b[0m\u001b[0;34m\u001b[0m\u001b[0m\n\u001b[0;32m---> 74\u001b[0;31m         raise ValueError((\n\u001b[0m\u001b[1;32m     75\u001b[0m             \u001b[0;34m'The default Firebase app already exists. This means you called '\u001b[0m\u001b[0;34m\u001b[0m\u001b[0;34m\u001b[0m\u001b[0m\n\u001b[1;32m     76\u001b[0m             \u001b[0;34m'initialize_app() more than once without providing an app name as '\u001b[0m\u001b[0;34m\u001b[0m\u001b[0;34m\u001b[0m\u001b[0m\n",
            "\u001b[0;31mValueError\u001b[0m: The default Firebase app already exists. This means you called initialize_app() more than once without providing an app name as the second argument. In most cases you only need to call initialize_app() once. But if you do want to initialize multiple apps, pass a second argument to initialize_app() to give each app a unique name."
          ]
        }
      ],
      "source": [
        "# Install necessary Google Cloud libraries\n",
        "!pip install --quiet --upgrade google-cloud-aiplatform google-cloud-firestore google-api-python-client\n",
        "\n",
        "# Authenticate your Google Cloud account for this Colab session\n",
        "import google.colab.auth\n",
        "google.colab.auth.authenticate_user()\n",
        "\n",
        "# Import Firebase libraries and initialize your app\n",
        "import firebase_admin\n",
        "from firebase_admin import credentials, firestore\n",
        "\n",
        "# IMPORTANT: Upload the JSON credentials file you downloaded from Firebase\n",
        "# to your Colab session files before running this.\n",
        "cred = credentials.Certificate(\"gen-lang-client-0582050962-firebase-adminsdk-fbsvc-4c199b0c7b.json\")\n",
        "firebase_admin.initialize_app(cred)\n",
        "db = firestore.client()\n",
        "\n",
        "print(\"Setup Complete!\")"
      ]
    },
    {
      "cell_type": "markdown",
      "source": [
        "# Cell 2: Stage 1 - The Ideation & Validation Engine"
      ],
      "metadata": {
        "id": "3kVgJ1XlqzJc"
      }
    },
    {
      "cell_type": "code",
      "source": [
        "import os\n",
        "from google.cloud import aiplatform\n",
        "import vertexai\n",
        "from vertexai.generative_models import GenerativeModel\n",
        "\n",
        "# --- Configuration ---\n",
        "PROJECT_ID = \"gen-lang-client-0582050962\"\n",
        "LOCATION = \"us-central1\" # e.g., us-central1\n",
        "vertexai.init(project=PROJECT_ID, location=LOCATION)\n",
        "model = GenerativeModel(\"gemini-2.5-pro\")\n",
        "\n",
        "# --- User Input ---\n",
        "initial_idea = \"How AI is changing performance management\"\n",
        "\n",
        "# --- Gemini Prompt for Ideation ---\n",
        "ideation_prompt = f\"\"\"\n",
        "Act as a world-class HR tech content strategist. My initial idea is '{initial_idea}'.\n",
        "Based on current market trends and professional discussions, generate 5 compelling and marketable article titles.\n",
        "For each title, provide:\n",
        "1.  A 1-sentence strategic angle for a senior HR audience.\n",
        "2.  A list of 5-7 primary and secondary SEO keywords.\n",
        "3.  A 2-sentence justification for why this is a valuable and timely topic.\n",
        "\n",
        "Format the output as a clean, easy-to-read list.\n",
        "\"\"\"\n",
        "\n",
        "# --- Execute and Print ---\n",
        "response = model.generate_content(ideation_prompt)\n",
        "print(response.text)\n",
        "\n",
        "# Save the ideas for the next step\n",
        "validated_ideas = response.text"
      ],
      "metadata": {
        "colab": {
          "base_uri": "https://localhost:8080/"
        },
        "id": "6p-u03RLqTcf",
        "outputId": "745c37d0-c34c-4709-fc00-f727f5ad8da7"
      },
      "execution_count": 8,
      "outputs": [
        {
          "output_type": "stream",
          "name": "stderr",
          "text": [
            "/usr/local/lib/python3.12/dist-packages/vertexai/generative_models/_generative_models.py:433: UserWarning: This feature is deprecated as of June 24, 2025 and will be removed on June 24, 2026. For details, see https://cloud.google.com/vertex-ai/generative-ai/docs/deprecations/genai-vertexai-sdk.\n",
            "  warning_logs.show_deprecation_warning()\n"
          ]
        },
        {
          "output_type": "stream",
          "name": "stdout",
          "text": [
            "Of course. As a world-class HR tech content strategist, my goal is to move beyond the obvious and create titles that signal true strategic value to a senior audience. Here are 5 compelling, marketable article titles based on your initial idea, each tailored for maximum impact.\n",
            "\n",
            "***\n",
            "\n",
            "### 1. Beyond the Annual Review: How AI is Powering Continuous Performance Development\n",
            "\n",
            "*   **Strategic Angle:** This article positions AI not just as an efficiency tool, but as the engine for shifting from a backward-looking administrative process to a forward-looking, developmental culture that drives employee retention and growth.\n",
            "*   **SEO Keywords:**\n",
            "    *   AI in performance management (Primary)\n",
            "    *   Continuous performance management\n",
            "    *   Annual review alternatives\n",
            "    *   AI for employee development\n",
            "    *   Performance management trends\n",
            "    *   Employee feedback tools\n",
            "*   **Justification:** The annual review is a widely acknowledged pain point for both leaders and employees, often seen as ineffective and demotivating. This topic is timely because it provides a tangible solution to a long-standing problem, showing how AI makes the aspirational goal of \"continuous feedback\" a scalable reality.\n",
            "\n",
            "### 2. From Gut Feel to Growth Engine: Using AI to Unlock Predictive Performance Insights\n",
            "\n",
            "*   **Strategic Angle:** This piece focuses on how AI transforms performance data from a simple record-keeping exercise into a predictive asset that directly links talent effectiveness to business outcomes and future workforce planning.\n",
            "*   **SEO Keywords:**\n",
            "    *   Predictive performance analytics (Primary)\n",
            "    *   AI in HR analytics\n",
            "    *   Data-driven performance management\n",
            "    *   Talent intelligence platforms\n",
            "    *   Workforce analytics\n",
            "    *   Measuring employee performance\n",
            "    *   HR tech ROI\n",
            "*   **Justification:** CHROs are under increasing pressure to operate as strategic business partners and demonstrate the ROI of their initiatives. This topic speaks directly to that need by explaining how AI can quantify the impact of performance, identify top performers at risk of leaving, and inform critical succession planning decisions.\n",
            "\n",
            "### 3. The AI Fairness Paradox: De-Biasing Performance Reviews Without Creating New Blind Spots\n",
            "\n",
            "*   **Strategic Angle:** This article addresses the critical risk-mitigation and ethical leadership challenge of using AI, framing it as a tool that can either promote unprecedented fairness or introduce new, hidden algorithmic biases if not governed correctly.\n",
            "*   **SEO Keywords:**\n",
            "    *   AI and bias in HR (Primary)\n",
            "    *   Unbiased performance reviews\n",
            "    *   Ethical AI in HR\n",
            "    *   DEI and AI\n",
            "    *   Algorithmic bias\n",
            "    *   Fairness in performance management\n",
            "    *   HR compliance technology\n",
            "*   **Justification:** With DEI as a top corporate priority, leaders are rightfully concerned about the legal and reputational risks of biased technology. This is an incredibly valuable topic as it provides senior HR leaders with the nuanced understanding they need to champion responsible AI adoption and defend their processes.\n",
            "\n",
            "### 4. The AI-Augmented Manager: Shifting from Grader to Coach in a World of Real-Time Data\n",
            "\n",
            "*   **Strategic Angle:** This article reframes the conversation around AI from \"replacing managers\" to \"augmenting managers,\" showcasing how AI tools can automate administrative burdens and provide data-driven prompts that empower managers to have more effective, human-centric coaching conversations.\n",
            "*   **SEO Keywords:**\n",
            "    *   AI for managers (Primary)\n",
            "    *   Manager enablement tools\n",
            "    *   Performance coaching\n",
            "    *   AI conversation intelligence\n",
            "    *   Leadership development\n",
            "    *   Delivering employee feedback\n",
            "*   **Justification:** Manager effectiveness is a perennial challenge and a key driver of employee engagement and retention. This topic is highly marketable because it offers a practical solution to manager burnout and skill gaps, showing how technology can free them up to do what matters most: coach and develop their people.\n",
            "\n",
            "### 5. The Autonomous Performance Ecosystem: A 5-Year Roadmap for AI-Driven Talent Optimization\n",
            "\n",
            "*   **Strategic Angle:** This visionary piece targets forward-thinking leaders, outlining a long-term strategy where performance management is no longer a standalone process but part of an integrated, AI-powered ecosystem that connects performance data with learning, mobility, and rewards in real-time.\n",
            "*   **SEO Keywords:**\n",
            "    *   Future of performance management (Primary)\n",
            "    *   AI in talent management\n",
            "    *   Talent optimization\n",
            "    *   Integrated talent management\n",
            "    *   HR technology roadmap\n",
            "    *   Agile performance management\n",
            "    *   Intelligent HR systems\n",
            "*   **Justification:** Senior HR leaders are not just buying tools for today; they are building the technology stack for tomorrow. This topic provides a high-level, strategic framework that helps them think beyond a single solution and plan for a future where talent decisions are dynamic, intelligent, and fully aligned with the organization's agile goals.\n"
          ]
        }
      ]
    },
    {
      "cell_type": "markdown",
      "source": [
        "# Cell 3: Stage 2 - The Automated Research & Synthesis Module"
      ],
      "metadata": {
        "id": "iitJAZKWSwtM"
      }
    },
    {
      "cell_type": "code",
      "source": [
        "# --- User Selection (Manual Step) ---\n",
        "chosen_topic = \"Beyond Ratings: How AI-Powered Continuous Feedback is Redefining Performance\"\n",
        "# In another window, go to NotebookLM, ask it questions about your KPI framework\n",
        "# related to performance, and copy the grounded insights.\n",
        "notebooklm_insights = \"\"\"\n",
        "Assessing the overall health and efficiency of an organization's HR operations involves analyzing a comprehensive set of Key Performance Indicators (KPIs) across various HR pillars. These metrics provide insights into how effectively HR is attracting, developing, retaining, and supporting its workforce, as well as the operational effectiveness of HR processes.\n",
        "\n",
        "### HR Health Indicators\n",
        "\n",
        "The **health of HR operations** reflects the organization's ability to foster a positive employee experience, develop talent, ensure equitable practices, and maintain a stable and productive workforce.\n",
        "\n",
        "**1. Talent Acquisition & Onboarding Health:**\n",
        "*   **Attraction and Sourcing:**\n",
        "    *   **Qualified Applicant Rate** indicates the effectiveness of sourcing, showing the percentage of applicants meeting minimum job qualifications.\n",
        "    *   **Source of Hire Effectiveness** identifies which channels are most successful in providing new hires.\n",
        "    *   **Talent Pool Growth Rate** measures the expansion of the passive candidate database.\n",
        "    *   **Pool-to-Hire Rate** shows the percentage of hires originating from the existing talent network.\n",
        "*   **Candidate & Hiring Experience:**\n",
        "    *   **Offer Acceptance Rate** reveals the percentage of offers accepted, indicating the attractiveness of employment terms.\n",
        "    *   **Candidate Experience Score (CXS)** is a leading indicator of a candidate's overall perception of the recruitment process.\n",
        "    *   **Quality of Hire** assesses the value a new hire brings, often through first-year performance ratings and turnover rates.\n",
        "    *   **Hiring Manager Satisfaction** reflects managers' satisfaction with the recruitment process and the quality of new hires.\n",
        "*   **New Hire Success:**\n",
        "    *   **New Hire Turnover Rate (90-Day)** measures the percentage of employees leaving within their first 90 days, indicating potential issues with selection or onboarding.\n",
        "    *   **Time to Productivity** tracks the average time for a new hire to become fully proficient in their role.\n",
        "\n",
        "**2. Talent Management & Development Health:**\n",
        "*   **Performance & Growth:**\n",
        "    *   **Goal Completion Rate** shows the percentage of employees completing their performance goals.\n",
        "    *   **Internal Mobility Rate** indicates the percentage of open positions filled by internal candidates, promoting career development and retention.\n",
        "*   **Retention & Engagement:**\n",
        "    *   **High-Performer Turnover Rate** and **High-Potential Employee Turnover** are critical diagnostic metrics measuring the voluntary departure of valuable employees, signaling potential issues with retention strategies for key talent.\n",
        "    *   **Manager Effectiveness Score** is a predictive composite score reflecting a manager's effectiveness based on feedback and team outcomes.\n",
        "*   **Skills & Leadership:**\n",
        "    *   **Skill Gap Percentage** identifies critical roles with skill deficits.\n",
        "    *   **Training Completion Rate** and **Training Effectiveness Score** evaluate the reach and impact of learning initiatives.\n",
        "    *   **Apprentice Conversion Rate** measures the success of vocational programs in transitioning apprentices to full-time roles.\n",
        "    *   **Executive Bench Strength** and **Operational Workforce Planning Bench Strength** assess the readiness of internal successors for critical and executive roles, indicating future leadership stability.\n",
        "    *   **Reskilling/Upskilling Rate** measures the workforce's participation in programs for future roles, indicating adaptability and future readiness.\n",
        "\n",
        "**3. Compensation & Benefits Health:**\n",
        "*   **Fairness & Competitiveness:**\n",
        "    *   **Compensation Competitiveness Ratio** compares company salaries to market averages.\n",
        "    *   **Compa-Ratio** measures where an employee's salary falls within their designated pay range.\n",
        "    *   **Pay Equity Gap** identifies differences in average pay between demographic groups for similar roles, highlighting potential biases.\n",
        "*   **Total Rewards:**\n",
        "    *   **Bonus/Variable Pay as % of Total Comp** shows the proportion of performance-based pay.\n",
        "    *   **Benefits Participation Rate** indicates employee engagement with voluntary benefits programs.\n",
        "\n",
        "**4. Workforce & Culture Health:**\n",
        "*   **Organizational Stability:**\n",
        "    *   **Vacancy Rate** indicates the percentage of unfilled positions, which can affect workload and productivity.\n",
        "    *   **Revenue per Employee** measures the financial productivity of the workforce.\n",
        "    *   **Forecast Accuracy** assesses the reliability of workforce planning models in predicting staffing levels.\n",
        "*   **Employee Experience & D&I:**\n",
        "    *   **Employee Well-being Index** is a composite score measuring the overall physical, mental, and financial health of the workforce.\n",
        "    *   **Inclusion Index** measures employees' feelings of fair treatment, belonging, and empowerment.\n",
        "    *   **Diversity in Leadership** quantifies the representation of underrepresented groups in leadership roles.\n",
        "    *   **Employee Net Promoter Score (eNPS)** measures employee loyalty and willingness to recommend the company as a workplace.\n",
        "    *   **Remote/Hybrid Work Effectiveness** compares the productivity and engagement of remote/hybrid employees to in-office counterparts.\n",
        "*   **Compliance & Sustainability:**\n",
        "    *   **Mandatory Training Compliance Rate** ensures employees complete all required compliance training.\n",
        "    *   **Employee Carbon Footprint** estimates environmental impact from employee activities.\n",
        "\n",
        "### HR Efficiency Indicators\n",
        "\n",
        "The **efficiency of HR operations** focuses on the speed, cost-effectiveness, and automation of HR processes and services.\n",
        "\n",
        "**1. Operational Process Efficiency:**\n",
        "*   **Recruiting Efficiency:**\n",
        "    *   **Recruiting Cost per Hire** measures the average total investment to hire a new employee.\n",
        "    *   **Time to Fill** tracks the average number of days from job requisition approval to offer acceptance.\n",
        "    *   **Recruitment Funnel Conversion Rate** indicates the efficiency of candidate progression through recruitment stages.\n",
        "*   **Administrative Efficiency:**\n",
        "    *   **Event Processing Cycle Time** measures the average time to process key employee events like promotions or transfers.\n",
        "    *   **Timesheet Submission Rate** monitors timely submission and approval of timesheets.\n",
        "    *   **First-Time Payroll Accuracy** assesses the correctness of paychecks on the first run, highlighting payroll process efficiency.\n",
        "    *   **HR Process Automation Rate** indicates the percentage of manual HR tasks that have been automated, signaling improved efficiency and reduced manual effort.\n",
        "    *   **HR Ticket Resolution Time** measures the average time to resolve employee inquiries, reflecting HR support responsiveness.\n",
        "*   **Data & System Efficiency:**\n",
        "    *   **Data Accuracy Rate** measures the completeness and correctness of employee records in the HRIS.\n",
        "    *   **HRIS Self-Service Adoption** indicates the percentage of employees actively using self-service features, which can reduce HR workload.\n",
        "    *   **Document Completion Rate** tracks the percentage of required documents on file and complete.\n",
        "\n",
        "**2. Resource & Investment Efficiency:**\n",
        "*   **Workforce Structure:**\n",
        "    *   **Span of Control** measures the average number of direct reports for managers, influencing managerial workload and organizational structure.\n",
        "    *   **HR Business Partner to Employee Ratio** indicates the number of employees supported by each HRBP, reflecting resource allocation within HR.\n",
        "*   **Return on Investment:**\n",
        "    *   **Analytics Project ROI** measures the financial return or business impact generated from people analytics projects.\n",
        "    *   **Implemented Improvement ROI** assesses the return on investment for continuous improvement projects, in terms of cost savings or efficiency gains.\n",
        "    *   **Overtime as % of Total Hours** indicates the proportion of total paid hours classified as overtime, which can be an efficiency concern if excessive.\n",
        "    *   **Assignment Success Rate (Global Mobility)** measures the success of international assignments, including employee retention post-assignment, reflecting the efficiency of global mobility programs.\n",
        "\n",
        "In conclusion, a holistic understanding of the organization's HR health and efficiency requires continuous monitoring and analysis of these diverse metrics. These KPIs, spanning areas from talent acquisition to employee well-being and operational processes, collectively provide a comprehensive view of HR's performance and its impact on the overall organization.\n",
        "\"\"\"\n",
        "\n",
        "# --- Gemini Prompt for Synthesis (Imagine you have fetched web content) ---\n",
        "# In a real application, you would use the Google Search API to get this text.\n",
        "web_research_summary = \"\"\"\n",
        "Article 1 from HBR states that 58% of companies are exploring AI for performance reviews. Article 2 from a vendor blog highlights AI's ability to analyze sentiment in Slack messages. Article 3 discusses the ethical implications and employee privacy concerns.\n",
        "\"\"\"\n",
        "\n",
        "synthesis_prompt = f\"\"\"\n",
        "You are a meticulous research assistant. I have provided a summary of web research on the topic '{chosen_topic}'.\n",
        "Web Research Summary: \"{web_research_summary}\"\n",
        "\n",
        "Synthesize this information and extract the following in a structured format:\n",
        "- A list of the 3-5 most important statistics.\n",
        "- A list of 2-3 impactful expert quotes or key arguments.\n",
        "- A brief summary of the main themes discussed.\n",
        "\"\"\"\n",
        "\n",
        "# --- Execute and Print ---\n",
        "response = model.generate_content(synthesis_prompt)\n",
        "print(response.text)\n",
        "synthesized_research = response.text"
      ],
      "metadata": {
        "colab": {
          "base_uri": "https://localhost:8080/"
        },
        "id": "N1JHSCuaSxnc",
        "outputId": "e9fa123e-17b6-48cf-88e0-ffa9f988db6d"
      },
      "execution_count": 10,
      "outputs": [
        {
          "output_type": "stream",
          "name": "stdout",
          "text": [
            "Of course. Here is a synthesis of the provided research summary, structured as requested.\n",
            "\n",
            "***\n",
            "\n",
            "### **Key Statistics**\n",
            "\n",
            "The provided summary contains one key statistic:\n",
            "\n",
            "*   **58%** of companies are currently exploring the use of AI for performance reviews, according to an article from Harvard Business Review (HBR).\n",
            "\n",
            "### **Impactful Key Arguments**\n",
            "\n",
            "Based on the research, here are the central arguments presented:\n",
            "\n",
            "*   **Capability for Real-Time Analysis:** From a vendor perspective, AI's key advantage is its ability to analyze unstructured data, such as sentiment in employee Slack messages, to enable a more continuous feedback model.\n",
            "*   **Ethical and Privacy Concerns:** A significant counter-argument is that the use of AI for monitoring and evaluating employee performance raises critical ethical questions and concerns regarding employee privacy.\n",
            "\n",
            "### **Summary of Main Themes**\n",
            "\n",
            "The main themes discussed in the research revolve around three core areas:\n",
            "\n",
            "1.  **Corporate Adoption:** There is a significant and growing interest in leveraging AI for performance management, with a majority of companies already exploring its potential.\n",
            "2.  **Technological Application:** The technology's promise lies in its ability to go \"beyond ratings\" by analyzing day-to-day communications and sentiment to provide continuous, data-driven feedback.\n",
            "3.  **Inherent Challenges:** The implementation of these AI tools is accompanied by serious ethical and privacy challenges that organizations must navigate as they consider adopting this new approach to performance reviews.\n"
          ]
        }
      ]
    },
    {
      "cell_type": "markdown",
      "source": [
        "# Cell 4: Stage 3 & 4 - The Content Drafting Engine & Firebase Storage"
      ],
      "metadata": {
        "id": "Lc0qFRNVTwLN"
      }
    },
    {
      "cell_type": "code",
      "source": [
        "# --- Final Drafting Prompt ---\n",
        "drafting_prompt = f\"\"\"\n",
        "Act as a renowned thought leader in People Analytics, writing for the Harvard Business Review.\n",
        "Your task is to write a 1,200-word, comprehensive article titled '{chosen_topic}'.\n",
        "\n",
        "Structure the article with:\n",
        "1.  A compelling introduction that hooks the reader.\n",
        "2.  Clear, logical subheadings.\n",
        "3.  A conclusion with 3 actionable takeaways for CHROs.\n",
        "\n",
        "Seamlessly integrate the following synthesized research points from the web:\n",
        "{synthesized_research}\n",
        "\n",
        "Crucially, ground the article's core argument in these foundational principles from our private strategic framework:\n",
        "{notebooklm_insights}\n",
        "\n",
        "The tone must be authoritative, strategic, and insightful. Format the final output in Markdown.\n",
        "\"\"\"\n",
        "\n",
        "# --- Execute Drafting ---\n",
        "response = model.generate_content(drafting_prompt)\n",
        "final_article_markdown = response.text\n",
        "print(\"--- Final Article Draft ---\")\n",
        "print(final_article_markdown)\n",
        "\n",
        "\n",
        "# --- Stage 4: Save to Firebase ---\n",
        "def save_article_to_firestore(title, content):\n",
        "    doc_ref = db.collection('articles').document()\n",
        "    doc_ref.set({\n",
        "        'title': title,\n",
        "        'content_markdown': content,\n",
        "        'status': 'draft',\n",
        "        'created_at': firestore.SERVER_TIMESTAMP\n",
        "    })\n",
        "    print(f\"Article saved to Firestore with ID: {doc_ref.id}\")\n",
        "\n",
        "# --- Execute Saving ---\n",
        "save_article_to_firestore(chosen_topic, final_article_markdown)"
      ],
      "metadata": {
        "colab": {
          "base_uri": "https://localhost:8080/",
          "height": 1000
        },
        "id": "7lWYhdOoTwvT",
        "outputId": "16c04869-d8f3-40c6-a820-3eb8c80cc211"
      },
      "execution_count": 11,
      "outputs": [
        {
          "output_type": "stream",
          "name": "stdout",
          "text": [
            "--- Final Article Draft ---\n",
            "# Beyond Ratings: How AI-Powered Continuous Feedback is Redefining Performance\n",
            "\n",
            "The annual performance review is the corporate world’s equivalent of a trip to the dentist: a necessary, often dreaded, procedure that occurs with scheduled regularity and is rarely looked forward to. For decades, we have clung to this ritual, a relic of the industrial era, where work was standardized, and output was easily quantifiable. We’ve tried to fix it—adding 360-degree feedback, simplifying rating scales, separating it from compensation talks—but these are mere tweaks to a fundamentally broken system.\n",
            "\n",
            "In today’s agile, knowledge-based economy, reducing a year of complex, collaborative, and often intangible contributions to a single number is not just inadequate; it's detrimental. It fosters recency bias, demotivates high-performers with forced-curve distributions, and fails to provide the timely, developmental feedback that modern employees crave. The system is failing us. But a seismic shift is underway. As a recent Harvard Business Review article noted, **58% of companies are now exploring the use of Artificial Intelligence for performance reviews**. This isn't just another incremental fix. It’s the dawn of a new paradigm: AI-powered continuous feedback, a model that promises to move us beyond ratings and redefine the very nature of performance itself.\n",
            "\n",
            "### The Lagging Indicator Problem: Why Annual Reviews Fail Our KPIs\n",
            "\n",
            "To understand why the old model is obsolete, we must first look at how we measure the holistic health of our human resources operations. My firm’s strategic framework assesses organizational vitality through a suite of **HR Health Indicators**, which go far beyond simple productivity. These include metrics like the **High-Performer Turnover Rate**, the **Internal Mobility Rate**, **Manager Effectiveness Score**, and the **Employee Well-being Index**.\n",
            "\n",
            "The annual review provides, at best, a single, lagging data point for this complex ecosystem. It tells us how someone performed *last year*, long after the window for intervention has closed. A high **High-Performer Turnover Rate**, for example, is a diagnosis made post-mortem. By the time we see it in our annual HR reports, our most valuable talent has already walked out the door. The annual review failed to provide the leading indicators—signs of disengagement, frustration with a manager, or a lack of growth opportunities—that could have enabled a proactive retention strategy.\n",
            "\n",
            "Similarly, how can a once-a-year conversation possibly capture the data needed to accurately measure **Time to Productivity** for new hires or to dynamically update a **Manager Effectiveness Score**? It can’t. The static, backward-looking nature of the annual review means we are managing our most critical asset—our people—using a blurry, out-of-date snapshot. We are making multi-million-dollar talent decisions based on anecdotal evidence and incomplete data, a practice we would never tolerate in finance or operations.\n",
            "\n",
            "### The AI Promise: From Static Snapshot to Dynamic Stream\n",
            "\n",
            "Herein lies the revolutionary promise of AI. The core technological advantage, as many vendors rightly claim, is its **capability for real-time analysis of unstructured data**. In the modern workplace, work doesn't just happen in formal meetings; it happens in the digital ether—on Slack, in Microsoft Teams, through Jira tickets, and across collaborative documents. AI can ethically and aggregately analyze these digital breadcrumbs to create a dynamic, holistic picture of performance as it happens.\n",
            "\n",
            "Imagine an AI system that doesn't \"read\" an employee's private messages but instead identifies patterns of collaboration. It could highlight a software engineer who consistently provides invaluable code reviews for junior colleagues, a contribution that rarely makes it into formal performance goals but is critical for team development and improving our **Quality of Hire** metric over time. It could identify a marketing manager who is a central node for cross-functional projects, providing a real-time data point for their influence and boosting their case for a higher **Internal Mobility Rate**.\n",
            "\n",
            "This approach transforms performance management from an event into a continuous stream. Instead of a single, subjective rating from one manager, we can build a composite, data-rich view of an employee’s contributions, impact, and development trajectory. This stream of data can feed directly into our most critical **HR Health Indicators**. It can offer early warnings for burnout, helping us improve the **Employee Well-being Index**. It can provide objective data on an individual's readiness for promotion, strengthening our **Executive Bench Strength**. The goal is not to replace human judgment but to augment it with objective, timely, and multifaceted data.\n",
            "\n",
            "### Navigating the Ethical Minefield: Coach, Not Cop\n",
            "\n",
            "Of course, this vision is accompanied by a significant and justified counter-argument: the risk of creating a dystopian surveillance culture. The discussion around AI in performance management is fraught with **critical ethical questions and concerns regarding employee privacy**. If implemented poorly, these tools can erode trust, foster anxiety, and create an environment where every keystroke is scrutinized. This is the fastest way to decimate psychological safety and watch your **Employee Net Promoter Score (eNPS)** plummet.\n",
            "\n",
            "The inherent challenge for leaders is to frame and implement this technology not as a tool for monitoring, but as a tool for empowerment. The AI must be a \"coach,\" not a \"cop.\"\n",
            "\n",
            "This requires establishing a crystal-clear ethical charter before a single line of code is deployed. This charter must be built on three pillars:\n",
            "1.  **Transparency:** Employees must know exactly what data is being collected, how it is being aggregated (stressing that individual communications are not being read), and for what purpose. The algorithm’s logic should be explainable.\n",
            "2.  **Purpose:** The data's sole purpose must be developmental. It should be used to identify opportunities for growth, recognize unsung contributions, facilitate better coaching conversations, and remove systemic roadblocks. It should never be used for punitive measures or automated decisions about termination.\n",
            "3.  **Bias Mitigation:** AI models are trained on data, and if that data reflects historical biases, the AI will perpetuate and even amplify them. Organizations must rigorously audit their algorithms to ensure they do not negatively impact the **Pay Equity Gap** or lower the **Inclusion Index** by favoring certain communication styles over others.\n",
            "\n",
            "When employees see the system as a tool that helps them grow, get recognized for their full range of contributions, and receive fairer evaluations, they will move from suspicion to adoption.\n",
            "\n",
            "### From Measurement to Enablement: The New HR Operating Model\n",
            "\n",
            "Adopting AI-powered continuous feedback is more than a technological upgrade; it demands a fundamental shift in the HR operating model—from administrative gatekeeping to strategic enablement. This change dramatically improves **HR Efficiency Indicators**. The cumbersome, time-consuming machinery of the annual review cycle—the forms, the calibrations, the chasing of managers—can be largely automated, boosting our **HR Process Automation Rate** and freeing up thousands of hours.\n",
            "\n",
            "This newfound efficiency allows HR Business Partners to evolve. Instead of policing compliance on review submissions, they can use the rich data stream to become true talent strategists. They can work with leaders to analyze team collaboration patterns, identify skill gaps in real time (improving the **Skill Gap Percentage**), and proactively design interventions that drive business outcomes. The **Analytics Project ROI** on these initiatives will far surpass any perceived gains from the old system.\n",
            "\n",
            "Most importantly, this model recasts the manager’s role. Armed with continuous, objective insights, managers are no longer required to be judges, delivering a verdict on a year’s worth of half-remembered events. Instead, they can become true coaches, using the data to facilitate frequent, forward-looking developmental conversations. The focus shifts from \"How would I rate you?\" to \"Here are some patterns in your work I’m seeing; how can I support your growth and help you remove obstacles?\" This is how we genuinely improve the **Manager Effectiveness Score** and, by extension, the performance of the entire organization.\n",
            "\n",
            "---\n",
            "\n",
            "The annual review is an anachronism. Its time has passed. The future of performance is continuous, data-driven, and developmental. While the path to implementing AI is paved with significant ethical challenges, the strategic imperative is undeniable. For CHROs ready to lead this transformation, the focus must be on a thoughtful, human-centric approach.\n",
            "\n",
            "### Actionable Takeaways for CHROs:\n",
            "\n",
            "1.  **Start with \"Why,\" Not \"What.\"** Before evaluating any AI vendor, clearly define the strategic problems you are trying to solve. Is your primary challenge retaining top talent (**High-Performer Turnover Rate**)? Is it fostering internal growth (**Internal Mobility Rate**)? Let the specific **HR Health Indicators** you need to improve dictate your technology strategy, ensuring you are buying a solution, not just a shiny new tool.\n",
            "\n",
            "2.  **Co-Create the Charter with Your Workforce.** Do not develop your AI ethics and data privacy rules in an executive boardroom. Run pilot programs with diverse groups of employees and managers to co-create the charter for how these tools will be used. Transparency and employee involvement from day one are the only ways to build the trust necessary for success and positively impact your **eNPS** and **Inclusion Index**.\n",
            "\n",
            "3.  **Invest Relentlessly in Your Managers.** The most sophisticated AI in the world is useless if your managers aren't equipped to use its insights for coaching. The biggest investment shouldn't be in the software, but in a robust training and development program that shifts the managerial mindset from judge to coach. Tie this training directly to improving the **Manager Effectiveness Score** and make it a core leadership competency in your organization.\n"
          ]
        },
        {
          "output_type": "error",
          "ename": "PermissionDenied",
          "evalue": "403 Cloud Firestore API has not been used in project gen-lang-client-0582050962 before or it is disabled. Enable it by visiting https://console.developers.google.com/apis/api/firestore.googleapis.com/overview?project=gen-lang-client-0582050962 then retry. If you enabled this API recently, wait a few minutes for the action to propagate to our systems and retry. [reason: \"SERVICE_DISABLED\"\ndomain: \"googleapis.com\"\nmetadata {\n  key: \"service\"\n  value: \"firestore.googleapis.com\"\n}\nmetadata {\n  key: \"serviceTitle\"\n  value: \"Cloud Firestore API\"\n}\nmetadata {\n  key: \"containerInfo\"\n  value: \"gen-lang-client-0582050962\"\n}\nmetadata {\n  key: \"consumer\"\n  value: \"projects/gen-lang-client-0582050962\"\n}\nmetadata {\n  key: \"activationUrl\"\n  value: \"https://console.developers.google.com/apis/api/firestore.googleapis.com/overview?project=gen-lang-client-0582050962\"\n}\n, locale: \"en-US\"\nmessage: \"Cloud Firestore API has not been used in project gen-lang-client-0582050962 before or it is disabled. Enable it by visiting https://console.developers.google.com/apis/api/firestore.googleapis.com/overview?project=gen-lang-client-0582050962 then retry. If you enabled this API recently, wait a few minutes for the action to propagate to our systems and retry.\"\n, links {\n  description: \"Google developers console API activation\"\n  url: \"https://console.developers.google.com/apis/api/firestore.googleapis.com/overview?project=gen-lang-client-0582050962\"\n}\n]",
          "traceback": [
            "\u001b[0;31m---------------------------------------------------------------------------\u001b[0m",
            "\u001b[0;31mPermissionDenied\u001b[0m                          Traceback (most recent call last)",
            "\u001b[0;32m/tmp/ipython-input-1382831324.py\u001b[0m in \u001b[0;36m<cell line: 0>\u001b[0;34m()\u001b[0m\n\u001b[1;32m     37\u001b[0m \u001b[0;34m\u001b[0m\u001b[0m\n\u001b[1;32m     38\u001b[0m \u001b[0;31m# --- Execute Saving ---\u001b[0m\u001b[0;34m\u001b[0m\u001b[0;34m\u001b[0m\u001b[0m\n\u001b[0;32m---> 39\u001b[0;31m \u001b[0msave_article_to_firestore\u001b[0m\u001b[0;34m(\u001b[0m\u001b[0mchosen_topic\u001b[0m\u001b[0;34m,\u001b[0m \u001b[0mfinal_article_markdown\u001b[0m\u001b[0;34m)\u001b[0m\u001b[0;34m\u001b[0m\u001b[0;34m\u001b[0m\u001b[0m\n\u001b[0m",
            "\u001b[0;32m/tmp/ipython-input-1382831324.py\u001b[0m in \u001b[0;36msave_article_to_firestore\u001b[0;34m(title, content)\u001b[0m\n\u001b[1;32m     28\u001b[0m \u001b[0;32mdef\u001b[0m \u001b[0msave_article_to_firestore\u001b[0m\u001b[0;34m(\u001b[0m\u001b[0mtitle\u001b[0m\u001b[0;34m,\u001b[0m \u001b[0mcontent\u001b[0m\u001b[0;34m)\u001b[0m\u001b[0;34m:\u001b[0m\u001b[0;34m\u001b[0m\u001b[0;34m\u001b[0m\u001b[0m\n\u001b[1;32m     29\u001b[0m     \u001b[0mdoc_ref\u001b[0m \u001b[0;34m=\u001b[0m \u001b[0mdb\u001b[0m\u001b[0;34m.\u001b[0m\u001b[0mcollection\u001b[0m\u001b[0;34m(\u001b[0m\u001b[0;34m'articles'\u001b[0m\u001b[0;34m)\u001b[0m\u001b[0;34m.\u001b[0m\u001b[0mdocument\u001b[0m\u001b[0;34m(\u001b[0m\u001b[0;34m)\u001b[0m\u001b[0;34m\u001b[0m\u001b[0;34m\u001b[0m\u001b[0m\n\u001b[0;32m---> 30\u001b[0;31m     doc_ref.set({\n\u001b[0m\u001b[1;32m     31\u001b[0m         \u001b[0;34m'title'\u001b[0m\u001b[0;34m:\u001b[0m \u001b[0mtitle\u001b[0m\u001b[0;34m,\u001b[0m\u001b[0;34m\u001b[0m\u001b[0;34m\u001b[0m\u001b[0m\n\u001b[1;32m     32\u001b[0m         \u001b[0;34m'content_markdown'\u001b[0m\u001b[0;34m:\u001b[0m \u001b[0mcontent\u001b[0m\u001b[0;34m,\u001b[0m\u001b[0;34m\u001b[0m\u001b[0;34m\u001b[0m\u001b[0m\n",
            "\u001b[0;32m/usr/local/lib/python3.12/dist-packages/google/cloud/firestore_v1/document.py\u001b[0m in \u001b[0;36mset\u001b[0;34m(self, document_data, merge, retry, timeout)\u001b[0m\n\u001b[1;32m    165\u001b[0m         \"\"\"\n\u001b[1;32m    166\u001b[0m         \u001b[0mbatch\u001b[0m\u001b[0;34m,\u001b[0m \u001b[0mkwargs\u001b[0m \u001b[0;34m=\u001b[0m \u001b[0mself\u001b[0m\u001b[0;34m.\u001b[0m\u001b[0m_prep_set\u001b[0m\u001b[0;34m(\u001b[0m\u001b[0mdocument_data\u001b[0m\u001b[0;34m,\u001b[0m \u001b[0mmerge\u001b[0m\u001b[0;34m,\u001b[0m \u001b[0mretry\u001b[0m\u001b[0;34m,\u001b[0m \u001b[0mtimeout\u001b[0m\u001b[0;34m)\u001b[0m\u001b[0;34m\u001b[0m\u001b[0;34m\u001b[0m\u001b[0m\n\u001b[0;32m--> 167\u001b[0;31m         \u001b[0mwrite_results\u001b[0m \u001b[0;34m=\u001b[0m \u001b[0mbatch\u001b[0m\u001b[0;34m.\u001b[0m\u001b[0mcommit\u001b[0m\u001b[0;34m(\u001b[0m\u001b[0;34m**\u001b[0m\u001b[0mkwargs\u001b[0m\u001b[0;34m)\u001b[0m\u001b[0;34m\u001b[0m\u001b[0;34m\u001b[0m\u001b[0m\n\u001b[0m\u001b[1;32m    168\u001b[0m         \u001b[0;32mreturn\u001b[0m \u001b[0m_first_write_result\u001b[0m\u001b[0;34m(\u001b[0m\u001b[0mwrite_results\u001b[0m\u001b[0;34m)\u001b[0m\u001b[0;34m\u001b[0m\u001b[0;34m\u001b[0m\u001b[0m\n\u001b[1;32m    169\u001b[0m \u001b[0;34m\u001b[0m\u001b[0m\n",
            "\u001b[0;32m/usr/local/lib/python3.12/dist-packages/google/cloud/firestore_v1/batch.py\u001b[0m in \u001b[0;36mcommit\u001b[0;34m(self, retry, timeout)\u001b[0m\n\u001b[1;32m     59\u001b[0m         \u001b[0mrequest\u001b[0m\u001b[0;34m,\u001b[0m \u001b[0mkwargs\u001b[0m \u001b[0;34m=\u001b[0m \u001b[0mself\u001b[0m\u001b[0;34m.\u001b[0m\u001b[0m_prep_commit\u001b[0m\u001b[0;34m(\u001b[0m\u001b[0mretry\u001b[0m\u001b[0;34m,\u001b[0m \u001b[0mtimeout\u001b[0m\u001b[0;34m)\u001b[0m\u001b[0;34m\u001b[0m\u001b[0;34m\u001b[0m\u001b[0m\n\u001b[1;32m     60\u001b[0m \u001b[0;34m\u001b[0m\u001b[0m\n\u001b[0;32m---> 61\u001b[0;31m         commit_response = self._client._firestore_api.commit(\n\u001b[0m\u001b[1;32m     62\u001b[0m             \u001b[0mrequest\u001b[0m\u001b[0;34m=\u001b[0m\u001b[0mrequest\u001b[0m\u001b[0;34m,\u001b[0m\u001b[0;34m\u001b[0m\u001b[0;34m\u001b[0m\u001b[0m\n\u001b[1;32m     63\u001b[0m             \u001b[0mmetadata\u001b[0m\u001b[0;34m=\u001b[0m\u001b[0mself\u001b[0m\u001b[0;34m.\u001b[0m\u001b[0m_client\u001b[0m\u001b[0;34m.\u001b[0m\u001b[0m_rpc_metadata\u001b[0m\u001b[0;34m,\u001b[0m\u001b[0;34m\u001b[0m\u001b[0;34m\u001b[0m\u001b[0m\n",
            "\u001b[0;32m/usr/local/lib/python3.12/dist-packages/google/cloud/firestore_v1/services/firestore/client.py\u001b[0m in \u001b[0;36mcommit\u001b[0;34m(self, request, database, writes, retry, timeout, metadata)\u001b[0m\n\u001b[1;32m   1429\u001b[0m \u001b[0;34m\u001b[0m\u001b[0m\n\u001b[1;32m   1430\u001b[0m         \u001b[0;31m# Send the request.\u001b[0m\u001b[0;34m\u001b[0m\u001b[0;34m\u001b[0m\u001b[0m\n\u001b[0;32m-> 1431\u001b[0;31m         response = rpc(\n\u001b[0m\u001b[1;32m   1432\u001b[0m             \u001b[0mrequest\u001b[0m\u001b[0;34m,\u001b[0m\u001b[0;34m\u001b[0m\u001b[0;34m\u001b[0m\u001b[0m\n\u001b[1;32m   1433\u001b[0m             \u001b[0mretry\u001b[0m\u001b[0;34m=\u001b[0m\u001b[0mretry\u001b[0m\u001b[0;34m,\u001b[0m\u001b[0;34m\u001b[0m\u001b[0;34m\u001b[0m\u001b[0m\n",
            "\u001b[0;32m/usr/local/lib/python3.12/dist-packages/google/api_core/gapic_v1/method.py\u001b[0m in \u001b[0;36m__call__\u001b[0;34m(self, timeout, retry, compression, *args, **kwargs)\u001b[0m\n\u001b[1;32m    129\u001b[0m             \u001b[0mkwargs\u001b[0m\u001b[0;34m[\u001b[0m\u001b[0;34m\"compression\"\u001b[0m\u001b[0;34m]\u001b[0m \u001b[0;34m=\u001b[0m \u001b[0mcompression\u001b[0m\u001b[0;34m\u001b[0m\u001b[0;34m\u001b[0m\u001b[0m\n\u001b[1;32m    130\u001b[0m \u001b[0;34m\u001b[0m\u001b[0m\n\u001b[0;32m--> 131\u001b[0;31m         \u001b[0;32mreturn\u001b[0m \u001b[0mwrapped_func\u001b[0m\u001b[0;34m(\u001b[0m\u001b[0;34m*\u001b[0m\u001b[0margs\u001b[0m\u001b[0;34m,\u001b[0m \u001b[0;34m**\u001b[0m\u001b[0mkwargs\u001b[0m\u001b[0;34m)\u001b[0m\u001b[0;34m\u001b[0m\u001b[0;34m\u001b[0m\u001b[0m\n\u001b[0m\u001b[1;32m    132\u001b[0m \u001b[0;34m\u001b[0m\u001b[0m\n\u001b[1;32m    133\u001b[0m \u001b[0;34m\u001b[0m\u001b[0m\n",
            "\u001b[0;32m/usr/local/lib/python3.12/dist-packages/google/api_core/retry/retry_unary.py\u001b[0m in \u001b[0;36mretry_wrapped_func\u001b[0;34m(*args, **kwargs)\u001b[0m\n\u001b[1;32m    292\u001b[0m                 \u001b[0mself\u001b[0m\u001b[0;34m.\u001b[0m\u001b[0m_initial\u001b[0m\u001b[0;34m,\u001b[0m \u001b[0mself\u001b[0m\u001b[0;34m.\u001b[0m\u001b[0m_maximum\u001b[0m\u001b[0;34m,\u001b[0m \u001b[0mmultiplier\u001b[0m\u001b[0;34m=\u001b[0m\u001b[0mself\u001b[0m\u001b[0;34m.\u001b[0m\u001b[0m_multiplier\u001b[0m\u001b[0;34m\u001b[0m\u001b[0;34m\u001b[0m\u001b[0m\n\u001b[1;32m    293\u001b[0m             )\n\u001b[0;32m--> 294\u001b[0;31m             return retry_target(\n\u001b[0m\u001b[1;32m    295\u001b[0m                 \u001b[0mtarget\u001b[0m\u001b[0;34m,\u001b[0m\u001b[0;34m\u001b[0m\u001b[0;34m\u001b[0m\u001b[0m\n\u001b[1;32m    296\u001b[0m                 \u001b[0mself\u001b[0m\u001b[0;34m.\u001b[0m\u001b[0m_predicate\u001b[0m\u001b[0;34m,\u001b[0m\u001b[0;34m\u001b[0m\u001b[0;34m\u001b[0m\u001b[0m\n",
            "\u001b[0;32m/usr/local/lib/python3.12/dist-packages/google/api_core/retry/retry_unary.py\u001b[0m in \u001b[0;36mretry_target\u001b[0;34m(target, predicate, sleep_generator, timeout, on_error, exception_factory, **kwargs)\u001b[0m\n\u001b[1;32m    154\u001b[0m         \u001b[0;32mexcept\u001b[0m \u001b[0mException\u001b[0m \u001b[0;32mas\u001b[0m \u001b[0mexc\u001b[0m\u001b[0;34m:\u001b[0m\u001b[0;34m\u001b[0m\u001b[0;34m\u001b[0m\u001b[0m\n\u001b[1;32m    155\u001b[0m             \u001b[0;31m# defer to shared logic for handling errors\u001b[0m\u001b[0;34m\u001b[0m\u001b[0;34m\u001b[0m\u001b[0m\n\u001b[0;32m--> 156\u001b[0;31m             next_sleep = _retry_error_helper(\n\u001b[0m\u001b[1;32m    157\u001b[0m                 \u001b[0mexc\u001b[0m\u001b[0;34m,\u001b[0m\u001b[0;34m\u001b[0m\u001b[0;34m\u001b[0m\u001b[0m\n\u001b[1;32m    158\u001b[0m                 \u001b[0mdeadline\u001b[0m\u001b[0;34m,\u001b[0m\u001b[0;34m\u001b[0m\u001b[0;34m\u001b[0m\u001b[0m\n",
            "\u001b[0;32m/usr/local/lib/python3.12/dist-packages/google/api_core/retry/retry_base.py\u001b[0m in \u001b[0;36m_retry_error_helper\u001b[0;34m(exc, deadline, sleep_iterator, error_list, predicate_fn, on_error_fn, exc_factory_fn, original_timeout)\u001b[0m\n\u001b[1;32m    212\u001b[0m             \u001b[0moriginal_timeout\u001b[0m\u001b[0;34m,\u001b[0m\u001b[0;34m\u001b[0m\u001b[0;34m\u001b[0m\u001b[0m\n\u001b[1;32m    213\u001b[0m         )\n\u001b[0;32m--> 214\u001b[0;31m         \u001b[0;32mraise\u001b[0m \u001b[0mfinal_exc\u001b[0m \u001b[0;32mfrom\u001b[0m \u001b[0msource_exc\u001b[0m\u001b[0;34m\u001b[0m\u001b[0;34m\u001b[0m\u001b[0m\n\u001b[0m\u001b[1;32m    215\u001b[0m     \u001b[0;32mif\u001b[0m \u001b[0mon_error_fn\u001b[0m \u001b[0;32mis\u001b[0m \u001b[0;32mnot\u001b[0m \u001b[0;32mNone\u001b[0m\u001b[0;34m:\u001b[0m\u001b[0;34m\u001b[0m\u001b[0;34m\u001b[0m\u001b[0m\n\u001b[1;32m    216\u001b[0m         \u001b[0mon_error_fn\u001b[0m\u001b[0;34m(\u001b[0m\u001b[0mexc\u001b[0m\u001b[0;34m)\u001b[0m\u001b[0;34m\u001b[0m\u001b[0;34m\u001b[0m\u001b[0m\n",
            "\u001b[0;32m/usr/local/lib/python3.12/dist-packages/google/api_core/retry/retry_unary.py\u001b[0m in \u001b[0;36mretry_target\u001b[0;34m(target, predicate, sleep_generator, timeout, on_error, exception_factory, **kwargs)\u001b[0m\n\u001b[1;32m    145\u001b[0m     \u001b[0;32mwhile\u001b[0m \u001b[0;32mTrue\u001b[0m\u001b[0;34m:\u001b[0m\u001b[0;34m\u001b[0m\u001b[0;34m\u001b[0m\u001b[0m\n\u001b[1;32m    146\u001b[0m         \u001b[0;32mtry\u001b[0m\u001b[0;34m:\u001b[0m\u001b[0;34m\u001b[0m\u001b[0;34m\u001b[0m\u001b[0m\n\u001b[0;32m--> 147\u001b[0;31m             \u001b[0mresult\u001b[0m \u001b[0;34m=\u001b[0m \u001b[0mtarget\u001b[0m\u001b[0;34m(\u001b[0m\u001b[0;34m)\u001b[0m\u001b[0;34m\u001b[0m\u001b[0;34m\u001b[0m\u001b[0m\n\u001b[0m\u001b[1;32m    148\u001b[0m             \u001b[0;32mif\u001b[0m \u001b[0minspect\u001b[0m\u001b[0;34m.\u001b[0m\u001b[0misawaitable\u001b[0m\u001b[0;34m(\u001b[0m\u001b[0mresult\u001b[0m\u001b[0;34m)\u001b[0m\u001b[0;34m:\u001b[0m\u001b[0;34m\u001b[0m\u001b[0;34m\u001b[0m\u001b[0m\n\u001b[1;32m    149\u001b[0m                 \u001b[0mwarnings\u001b[0m\u001b[0;34m.\u001b[0m\u001b[0mwarn\u001b[0m\u001b[0;34m(\u001b[0m\u001b[0m_ASYNC_RETRY_WARNING\u001b[0m\u001b[0;34m)\u001b[0m\u001b[0;34m\u001b[0m\u001b[0;34m\u001b[0m\u001b[0m\n",
            "\u001b[0;32m/usr/local/lib/python3.12/dist-packages/google/api_core/timeout.py\u001b[0m in \u001b[0;36mfunc_with_timeout\u001b[0;34m(*args, **kwargs)\u001b[0m\n\u001b[1;32m    128\u001b[0m                 \u001b[0mkwargs\u001b[0m\u001b[0;34m[\u001b[0m\u001b[0;34m\"timeout\"\u001b[0m\u001b[0;34m]\u001b[0m \u001b[0;34m=\u001b[0m \u001b[0mremaining_timeout\u001b[0m\u001b[0;34m\u001b[0m\u001b[0;34m\u001b[0m\u001b[0m\n\u001b[1;32m    129\u001b[0m \u001b[0;34m\u001b[0m\u001b[0m\n\u001b[0;32m--> 130\u001b[0;31m             \u001b[0;32mreturn\u001b[0m \u001b[0mfunc\u001b[0m\u001b[0;34m(\u001b[0m\u001b[0;34m*\u001b[0m\u001b[0margs\u001b[0m\u001b[0;34m,\u001b[0m \u001b[0;34m**\u001b[0m\u001b[0mkwargs\u001b[0m\u001b[0;34m)\u001b[0m\u001b[0;34m\u001b[0m\u001b[0;34m\u001b[0m\u001b[0m\n\u001b[0m\u001b[1;32m    131\u001b[0m \u001b[0;34m\u001b[0m\u001b[0m\n\u001b[1;32m    132\u001b[0m         \u001b[0;32mreturn\u001b[0m \u001b[0mfunc_with_timeout\u001b[0m\u001b[0;34m\u001b[0m\u001b[0;34m\u001b[0m\u001b[0m\n",
            "\u001b[0;32m/usr/local/lib/python3.12/dist-packages/google/api_core/grpc_helpers.py\u001b[0m in \u001b[0;36merror_remapped_callable\u001b[0;34m(*args, **kwargs)\u001b[0m\n\u001b[1;32m     76\u001b[0m             \u001b[0;32mreturn\u001b[0m \u001b[0mcallable_\u001b[0m\u001b[0;34m(\u001b[0m\u001b[0;34m*\u001b[0m\u001b[0margs\u001b[0m\u001b[0;34m,\u001b[0m \u001b[0;34m**\u001b[0m\u001b[0mkwargs\u001b[0m\u001b[0;34m)\u001b[0m\u001b[0;34m\u001b[0m\u001b[0;34m\u001b[0m\u001b[0m\n\u001b[1;32m     77\u001b[0m         \u001b[0;32mexcept\u001b[0m \u001b[0mgrpc\u001b[0m\u001b[0;34m.\u001b[0m\u001b[0mRpcError\u001b[0m \u001b[0;32mas\u001b[0m \u001b[0mexc\u001b[0m\u001b[0;34m:\u001b[0m\u001b[0;34m\u001b[0m\u001b[0;34m\u001b[0m\u001b[0m\n\u001b[0;32m---> 78\u001b[0;31m             \u001b[0;32mraise\u001b[0m \u001b[0mexceptions\u001b[0m\u001b[0;34m.\u001b[0m\u001b[0mfrom_grpc_error\u001b[0m\u001b[0;34m(\u001b[0m\u001b[0mexc\u001b[0m\u001b[0;34m)\u001b[0m \u001b[0;32mfrom\u001b[0m \u001b[0mexc\u001b[0m\u001b[0;34m\u001b[0m\u001b[0;34m\u001b[0m\u001b[0m\n\u001b[0m\u001b[1;32m     79\u001b[0m \u001b[0;34m\u001b[0m\u001b[0m\n\u001b[1;32m     80\u001b[0m     \u001b[0;32mreturn\u001b[0m \u001b[0merror_remapped_callable\u001b[0m\u001b[0;34m\u001b[0m\u001b[0;34m\u001b[0m\u001b[0m\n",
            "\u001b[0;31mPermissionDenied\u001b[0m: 403 Cloud Firestore API has not been used in project gen-lang-client-0582050962 before or it is disabled. Enable it by visiting https://console.developers.google.com/apis/api/firestore.googleapis.com/overview?project=gen-lang-client-0582050962 then retry. If you enabled this API recently, wait a few minutes for the action to propagate to our systems and retry. [reason: \"SERVICE_DISABLED\"\ndomain: \"googleapis.com\"\nmetadata {\n  key: \"service\"\n  value: \"firestore.googleapis.com\"\n}\nmetadata {\n  key: \"serviceTitle\"\n  value: \"Cloud Firestore API\"\n}\nmetadata {\n  key: \"containerInfo\"\n  value: \"gen-lang-client-0582050962\"\n}\nmetadata {\n  key: \"consumer\"\n  value: \"projects/gen-lang-client-0582050962\"\n}\nmetadata {\n  key: \"activationUrl\"\n  value: \"https://console.developers.google.com/apis/api/firestore.googleapis.com/overview?project=gen-lang-client-0582050962\"\n}\n, locale: \"en-US\"\nmessage: \"Cloud Firestore API has not been used in project gen-lang-client-0582050962 before or it is disabled. Enable it by visiting https://console.developers.google.com/apis/api/firestore.googleapis.com/overview?project=gen-lang-client-0582050962 then retry. If you enabled this API recently, wait a few minutes for the action to propagate to our systems and retry.\"\n, links {\n  description: \"Google developers console API activation\"\n  url: \"https://console.developers.google.com/apis/api/firestore.googleapis.com/overview?project=gen-lang-client-0582050962\"\n}\n]"
          ]
        }
      ]
    }
  ]
}